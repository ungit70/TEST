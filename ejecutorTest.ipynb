{
 "cells": [
  {
   "cell_type": "code",
   "execution_count": 1,
   "metadata": {},
   "outputs": [
    {
     "name": "stdout",
     "output_type": "stream",
     "text": [
      "Traceback (most recent call last):\n",
      "  File \"/home/zero/Documentos/HERDEZ/TEST/estructura.py\", line 16, in videoteca\n",
      "    idPelicula = int(pelicula[0])\n",
      "ValueError: invalid literal for int() with base 10: 'movieId'\n",
      "Ocurrio un problema estructurando: ['movieId', 'title', 'genres']\n",
      "Traceback (most recent call last):\n",
      "  File \"/home/zero/Documentos/HERDEZ/TEST/estructura.py\", line 58, in subscriptores\n",
      "    userId = int(tag[0])\n",
      "ValueError: invalid literal for int() with base 10: 'userId'\n",
      "Ocurrio un problema estructurando: ['userId', 'movieId', 'tag', 'timestamp']\n"
     ]
    }
   ],
   "source": [
    "from recomendador import recomendador\n",
    "rutaPeliculas = './movies.csv'\n",
    "rutaUsuarios = './tags.csv'\n",
    "# instancia de recomendador\n",
    "reco = recomendador(rutaCatalogo=rutaPeliculas, rutaUsers=rutaUsuarios)\n"
   ]
  },
  {
   "cell_type": "code",
   "execution_count": 2,
   "metadata": {},
   "outputs": [],
   "source": [
    "# declaracion de datos de prueba\n",
    "# como lista:\n",
    "testLista = ['Death Wish (2018)',\n",
    "        'A Wrinkle in Time (2018)',\n",
    "        'Love, Simon (2018)',\n",
    "        'A Quiet Place (2018)',\n",
    "        'Alpha (2018)',\n",
    "        'I Kill Giants (2018)',\n",
    "        'Sherlock - A Study in Pink (2010)']\n",
    "# como pelicula \n",
    "testPeliculaInfantil = 'Pocahontas (1995)'\n",
    "testPeliculaNoInfantil = 'Die Hard: With a Vengeance (1995)'\n"
   ]
  },
  {
   "cell_type": "code",
   "execution_count": 3,
   "metadata": {},
   "outputs": [
    {
     "name": "stdout",
     "output_type": "stream",
     "text": [
      "Porque viste \"Pocahontas (1995)\" te sugerimos:\n",
      "\n",
      "Volga - Volga (1938)\n",
      "Dumbo (1941)\n",
      "Mulan (1998)\n",
      "\n",
      " Tambien podria gustarte:\n",
      "\n",
      "One Man Band (2005)\n",
      "Doctor Dolittle (1967)\n",
      "Sweet Charity (1969)\n"
     ]
    }
   ],
   "source": [
    "# resultado 1 de recomendador\n",
    "reco.recomendaciones(testPeliculaInfantil)\n"
   ]
  },
  {
   "cell_type": "code",
   "execution_count": 4,
   "metadata": {},
   "outputs": [
    {
     "name": "stdout",
     "output_type": "stream",
     "text": [
      "Porque viste \"Die Hard: With a Vengeance (1995)\" te sugerimos:\n",
      "\n",
      "F/X2 (a.k.a. F/X 2 - The Deadly Art of Illusion) (1991)\n",
      "Death Wish (2018)\n",
      "Mission: Impossible - Fallout (2018)\n",
      "\n",
      " Tambien podria gustarte:\n",
      "\n",
      "Derailed (2002)\n",
      "That Demon Within (2014)\n",
      "The Beguiled (2017)\n"
     ]
    }
   ],
   "source": [
    "# resultado 2 de recomendador\n",
    "reco.recomendaciones(testPeliculaNoInfantil)\n"
   ]
  },
  {
   "cell_type": "code",
   "execution_count": 5,
   "metadata": {},
   "outputs": [
    {
     "name": "stdout",
     "output_type": "stream",
     "text": [
      "Porque viste \"Death Wish (2018)\" te sugerimos:\n",
      "\n",
      "Crossing Guard, The (1995)\n",
      "Jack Reacher: Never Go Back (2016)\n",
      "John Wick: Chapter Two (2017)\n",
      "\n",
      " Tambien podria gustarte:\n",
      "\n",
      "Mad Max: Fury Road (2015)\n",
      "Blood Diamond (2006)\n",
      "Puppet Master (1989)\n",
      "-------------\n",
      "Porque viste \"A Wrinkle in Time (2018)\" te sugerimos:\n",
      "\n",
      "Tin Man (2007)\n",
      "Ewok Adventure, The (a.k.a. Caravan of Courage: An Ewok Adventure) (1984)\n",
      "Race to Witch Mountain (2009)\n",
      "\n",
      " Tambien podria gustarte:\n",
      "\n",
      "Evangelion: 2.0 You Can (Not) Advance (Evangerion shin gekijôban: Ha) (2009)\n",
      "Jurassic World: Fallen Kingdom (2018)\n",
      "Monsters vs. Aliens (2009)\n",
      "-------------\n",
      "Porque viste \"Love, Simon (2018)\" te sugerimos:\n",
      "\n",
      "Table 19 (2017)\n",
      "BlacKkKlansman (2018)\n",
      "Jeff Ross Roasts the Border (2017)\n",
      "\n",
      " Tambien podria gustarte:\n",
      "\n",
      "Django Unchained (2012)\n",
      "Used People (1992)\n",
      "Letter, The (1940)\n",
      "-------------\n",
      "Porque viste \"A Quiet Place (2018)\" te sugerimos:\n",
      "\n",
      "Mary Reilly (1996)\n",
      "Mother! (2017)\n",
      "Roman J. Israel, Esq. (2017)\n",
      "\n",
      " Tambien podria gustarte:\n",
      "\n",
      "Sweeney Todd: The Demon Barber of Fleet Street (2007)\n",
      "Split (2017)\n",
      "Godzilla (Gojira) (1954)\n",
      "-------------\n",
      "Porque viste \"Alpha (2018)\" te sugerimos:\n",
      "\n",
      "Joy Ride (2001)\n",
      "Mission: Impossible - Fallout (2018)\n",
      "The Darkest Minds (2018)\n",
      "\n",
      " Tambien podria gustarte:\n",
      "\n",
      "X-Files: I Want to Believe, The (2008)\n",
      "Saw III (2006)\n",
      "Domestic Disturbance (2001)\n",
      "-------------\n",
      "Porque viste \"I Kill Giants (2018)\" te sugerimos:\n",
      "\n",
      "Seventh Sign, The (1988)\n",
      "Goodnight Mommy (Ich seh ich seh) (2014)\n",
      "Silence (2016)\n",
      "\n",
      " Tambien podria gustarte:\n",
      "\n",
      "Betrayed (1988)\n",
      "American Werewolf in London, An (1981)\n",
      "Halloween II (2009)\n",
      "-------------\n",
      "Porque viste \"Sherlock - A Study in Pink (2010)\" te sugerimos:\n",
      "\n",
      "Sherlock Holmes and Dr. Watson: Acquaintance (1979)\n",
      "Dogman (2018)\n",
      "SuperFly (2018)\n",
      "\n",
      " Tambien podria gustarte:\n",
      "\n",
      "Shaft (1971)\n",
      "Sherlock - A Study in Pink (2010)\n",
      "Innocent Man, An (1989)\n",
      "-------------\n"
     ]
    }
   ],
   "source": [
    "# resultado 3 de recomendador\n",
    "reco.recomendaciones(testLista)\n"
   ]
  }
 ],
 "metadata": {
  "interpreter": {
   "hash": "31f2aee4e71d21fbe5cf8b01ff0e069b9275f58929596ceb00d14d90e3e16cd6"
  },
  "kernelspec": {
   "display_name": "Python 3.8.10 64-bit",
   "language": "python",
   "name": "python3"
  },
  "language_info": {
   "codemirror_mode": {
    "name": "ipython",
    "version": 3
   },
   "file_extension": ".py",
   "mimetype": "text/x-python",
   "name": "python",
   "nbconvert_exporter": "python",
   "pygments_lexer": "ipython3",
   "version": "3.8.10"
  },
  "orig_nbformat": 4
 },
 "nbformat": 4,
 "nbformat_minor": 2
}
