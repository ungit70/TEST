{
 "cells": [
  {
   "cell_type": "code",
   "execution_count": 1,
   "metadata": {},
   "outputs": [
    {
     "name": "stdout",
     "output_type": "stream",
     "text": [
      "Traceback (most recent call last):\n",
      "  File \"/home/zero/Documentos/HERDEZ/TEST/estructura.py\", line 15, in videoteca\n",
      "    idPelicula = int(pelicula[0])\n",
      "ValueError: invalid literal for int() with base 10: 'movieId'\n",
      "Ocurrio un problema estructurando: ['movieId', 'title', 'genres']\n",
      "Traceback (most recent call last):\n",
      "  File \"/home/zero/Documentos/HERDEZ/TEST/estructura.py\", line 57, in subscriptores\n",
      "    userId = int(tag[0])\n",
      "ValueError: invalid literal for int() with base 10: 'userId'\n",
      "Ocurrio un problema estructurando: ['userId', 'movieId', 'tag', 'timestamp']\n"
     ]
    }
   ],
   "source": [
    "from recomendador import recomendador\n",
    "\n",
    "rutaPeliculas = './movies.csv'\n",
    "rutaUsuarios = './tags.csv'\n",
    "\n",
    "r = recomendador(rutaCatalogo=rutaPeliculas, rutaUsers=rutaUsuarios)\n"
   ]
  },
  {
   "cell_type": "code",
   "execution_count": 7,
   "metadata": {},
   "outputs": [],
   "source": [
    "testLista = ['Death Wish (2018)',\n",
    "        'A Wrinkle in Time (2018)',\n",
    "        'Love, Simon (2018)',\n",
    "        'A Quiet Place (2018)',\n",
    "        'Alpha (2018)',\n",
    "        'I Kill Giants (2018)',\n",
    "        'Sherlock - A Study in Pink (2010)']\n",
    "testPelicula = 'Pocahontas (1995)'\n"
   ]
  },
  {
   "cell_type": "code",
   "execution_count": 8,
   "metadata": {},
   "outputs": [
    {
     "name": "stdout",
     "output_type": "stream",
     "text": [
      "entro\n",
      "Porque viste \"Pocahontas (1995)\" te sugerimos:\n",
      "\n",
      "Sarah Silverman: Jesus Is Magic (2005)\n",
      "Dumbo (1941)\n",
      "Mulan (1998)\n",
      "\n",
      " Tambien podria gustarte:\n",
      "\n",
      "Madonna: Truth or Dare (1991)\n",
      "Chorus Line, A (1985)\n",
      "Fiddler on the Roof (1971)\n"
     ]
    }
   ],
   "source": [
    "r.recomendaciones(testPelicula)"
   ]
  },
  {
   "cell_type": "code",
   "execution_count": 4,
   "metadata": {},
   "outputs": [
    {
     "name": "stdout",
     "output_type": "stream",
     "text": [
      "Porque viste \"Death Wish (2018)\" te sugerimos:\n",
      "\n",
      "Crossing Guard, The (1995)\n",
      "Jack Reacher: Never Go Back (2016)\n",
      "John Wick: Chapter Two (2017)\n",
      "\n",
      " Tambien podria gustarte:\n",
      "\n",
      "Tormented (1960)\n",
      "Cold Creek Manor (2003)\n",
      "The Accountant (2016)\n",
      "-------------\n",
      "Porque viste \"A Wrinkle in Time (2018)\" te sugerimos:\n",
      "\n",
      "Tin Man (2007)\n",
      "Ewok Adventure, The (a.k.a. Caravan of Courage: An Ewok Adventure) (1984)\n",
      "Race to Witch Mountain (2009)\n",
      "\n",
      " Tambien podria gustarte:\n",
      "\n",
      "Resident Evil: Afterlife (2010)\n",
      "Cat from Outer Space, The (1978)\n",
      "Quatermass and the Pit (1967)\n",
      "-------------\n",
      "Porque viste \"Love, Simon (2018)\" te sugerimos:\n",
      "\n",
      "Table 19 (2017)\n",
      "BlacKkKlansman (2018)\n",
      "Jeff Ross Roasts the Border (2017)\n",
      "\n",
      " Tambien podria gustarte:\n",
      "\n",
      "11'09\"01 - September 11 (2002)\n",
      "Airport (1970)\n",
      "In the Cut (2003)\n",
      "-------------\n",
      "Porque viste \"A Quiet Place (2018)\" te sugerimos:\n",
      "\n",
      "Mary Reilly (1996)\n",
      "Mother! (2017)\n",
      "Roman J. Israel, Esq. (2017)\n",
      "\n",
      " Tambien podria gustarte:\n",
      "\n",
      "Red Eye (2005)\n",
      "White Dog (1982)\n",
      "Planet Terror (2007)\n",
      "-------------\n",
      "Porque viste \"Alpha (2018)\" te sugerimos:\n",
      "\n",
      "Joy Ride (2001)\n",
      "Mission: Impossible - Fallout (2018)\n",
      "The Darkest Minds (2018)\n",
      "\n",
      " Tambien podria gustarte:\n",
      "\n",
      "True Story (2015)\n",
      "The Devil's Advocate (1997)\n",
      "Hard-Boiled (Lat sau san taam) (1992)\n",
      "-------------\n",
      "Porque viste \"I Kill Giants (2018)\" te sugerimos:\n",
      "\n",
      "Seventh Sign, The (1988)\n",
      "Goodnight Mommy (Ich seh ich seh) (2014)\n",
      "Silence (2016)\n",
      "\n",
      " Tambien podria gustarte:\n",
      "\n",
      "Behind Enemy Lines II: Axis of Evil (2006)\n",
      "Citizen X (1995)\n",
      "Dark Skies (2013)\n",
      "-------------\n",
      "Porque viste \"Sherlock - A Study in Pink (2010)\" te sugerimos:\n",
      "\n",
      "Sherlock Holmes and Dr. Watson: Acquaintance (1979)\n",
      "Dogman (2018)\n",
      "SuperFly (2018)\n",
      "\n",
      " Tambien podria gustarte:\n",
      "\n",
      "Trailer Park Boys (1999)\n",
      "Getaway (2013)\n",
      "Ninja: Shadow of a Tear (2013)\n",
      "-------------\n"
     ]
    }
   ],
   "source": [
    "r.recomendaciones(testLista)\n"
   ]
  }
 ],
 "metadata": {
  "interpreter": {
   "hash": "31f2aee4e71d21fbe5cf8b01ff0e069b9275f58929596ceb00d14d90e3e16cd6"
  },
  "kernelspec": {
   "display_name": "Python 3.8.10 64-bit",
   "language": "python",
   "name": "python3"
  },
  "language_info": {
   "codemirror_mode": {
    "name": "ipython",
    "version": 3
   },
   "file_extension": ".py",
   "mimetype": "text/x-python",
   "name": "python",
   "nbconvert_exporter": "python",
   "pygments_lexer": "ipython3",
   "version": "3.8.10"
  },
  "orig_nbformat": 4
 },
 "nbformat": 4,
 "nbformat_minor": 2
}
